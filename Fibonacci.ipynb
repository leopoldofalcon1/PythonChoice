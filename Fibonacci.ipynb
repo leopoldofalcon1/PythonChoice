{
  "nbformat": 4,
  "nbformat_minor": 0,
  "metadata": {
    "colab": {
      "name": "Fibonacci",
      "provenance": [],
      "authorship_tag": "ABX9TyOehQPfRQzzGDfN9EXcyfX2",
      "include_colab_link": true
    },
    "kernelspec": {
      "name": "python3",
      "display_name": "Python 3"
    },
    "language_info": {
      "name": "python"
    }
  },
  "cells": [
    {
      "cell_type": "markdown",
      "metadata": {
        "id": "view-in-github",
        "colab_type": "text"
      },
      "source": [
        "<a href=\"https://colab.research.google.com/github/leopoldofalcon1/PythonChoice/blob/main/Fibonacci.ipynb\" target=\"_parent\"><img src=\"https://colab.research.google.com/assets/colab-badge.svg\" alt=\"Open In Colab\"/></a>"
      ]
    },
    {
      "cell_type": "code",
      "execution_count": 48,
      "metadata": {
        "colab": {
          "base_uri": "https://localhost:8080/"
        },
        "id": "K7t_YofRdcrv",
        "outputId": "033d4836-bf74-4535-a1a5-38e70cc92cb4"
      },
      "outputs": [
        {
          "output_type": "stream",
          "name": "stdout",
          "text": [
            "0\n",
            "1\n",
            "1\n",
            "2\n",
            "3\n",
            "5\n",
            "8\n",
            "13\n",
            "21\n",
            "34\n",
            "55\n",
            "89\n",
            "144\n",
            "233\n",
            "377\n",
            "610\n",
            "987\n",
            "1597\n"
          ]
        }
      ],
      "source": [
        "import numpy as np \n",
        "\n",
        "vector = np.array([0,1])\n",
        "while vector[0]<1000:\n",
        "  print(vector[0])\n",
        "  vector[0]=vector[0]+vector[1]\n",
        "  print(vector[1])\n",
        "  vector[1]=vector[1]+vector[0]\n",
        "\n",
        "\n",
        "\n",
        "\n",
        "\n"
      ]
    },
    {
      "cell_type": "code",
      "source": [
        ""
      ],
      "metadata": {
        "id": "_kNsicG_WnMI"
      },
      "execution_count": null,
      "outputs": []
    }
  ]
}