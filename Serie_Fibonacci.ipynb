{
  "nbformat": 4,
  "nbformat_minor": 0,
  "metadata": {
    "colab": {
      "name": "Serie Fibonacci",
      "provenance": [],
      "authorship_tag": "ABX9TyPIzIxnDkjgCXTAO05rjIiN",
      "include_colab_link": true
    },
    "kernelspec": {
      "name": "python3",
      "display_name": "Python 3"
    },
    "language_info": {
      "name": "python"
    }
  },
  "cells": [
    {
      "cell_type": "markdown",
      "metadata": {
        "id": "view-in-github",
        "colab_type": "text"
      },
      "source": [
        "<a href=\"https://colab.research.google.com/github/leopoldofalcon1/PythonChoice/blob/main/Serie_Fibonacci.ipynb\" target=\"_parent\"><img src=\"https://colab.research.google.com/assets/colab-badge.svg\" alt=\"Open In Colab\"/></a>"
      ]
    },
    {
      "cell_type": "code",
      "execution_count": null,
      "metadata": {
        "colab": {
          "base_uri": "https://localhost:8080/"
        },
        "id": "K7t_YofRdcrv",
        "outputId": "f91e4d9b-7bcb-491f-da11-9f8189dbe4cf"
      },
      "outputs": [
        {
          "output_type": "stream",
          "name": "stdout",
          "text": [
            "0\n",
            "1\n",
            "1\n",
            "2\n",
            "3\n",
            "5\n",
            "8\n",
            "13\n",
            "21\n",
            "34\n",
            "55\n",
            "89\n",
            "144\n",
            "233\n",
            "377\n",
            "610\n",
            "987\n",
            "1597\n",
            "2584\n",
            "4181\n",
            "6765\n",
            "10946\n"
          ]
        }
      ],
      "source": [
        "import numpy as np \n",
        "final= 15000\n",
        "\n",
        "vector = np.array([0,1])\n",
        "while vector[0]<final:\n",
        "  print(vector[0])\n",
        "  vector[0]=vector[0]+vector[1]\n",
        "  print(vector[1])\n",
        "  vector[1]=vector[1]+vector[0]\n",
        "\n",
        "\n",
        "\n",
        "\n",
        "\n"
      ]
    },
    {
      "cell_type": "code",
      "source": [
        "\n",
        "\n",
        "final= 15000\n",
        "x =0\n",
        "y=1\n",
        "junterio = []\n",
        "while x<final:\n",
        "  junterio.append(x)\n",
        "  x=x+y\n",
        "  junterio.append(y)\n",
        "  y=y+x\n",
        "junterio\n",
        "\n",
        "\n"
      ],
      "metadata": {
        "colab": {
          "base_uri": "https://localhost:8080/"
        },
        "id": "ysdnRUjGtK4U",
        "outputId": "2b70b429-0007-4ce5-f3a7-4fcc6fbe2d47"
      },
      "execution_count": 12,
      "outputs": [
        {
          "output_type": "execute_result",
          "data": {
            "text/plain": [
              "[0,\n",
              " 1,\n",
              " 1,\n",
              " 2,\n",
              " 3,\n",
              " 5,\n",
              " 8,\n",
              " 13,\n",
              " 21,\n",
              " 34,\n",
              " 55,\n",
              " 89,\n",
              " 144,\n",
              " 233,\n",
              " 377,\n",
              " 610,\n",
              " 987,\n",
              " 1597,\n",
              " 2584,\n",
              " 4181,\n",
              " 6765,\n",
              " 10946]"
            ]
          },
          "metadata": {},
          "execution_count": 12
        }
      ]
    },
    {
      "cell_type": "code",
      "source": [
        ""
      ],
      "metadata": {
        "id": "jmOOGO2StkpB"
      },
      "execution_count": null,
      "outputs": []
    }
  ]
}