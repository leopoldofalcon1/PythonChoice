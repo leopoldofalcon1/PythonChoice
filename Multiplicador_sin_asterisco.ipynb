{
  "nbformat": 4,
  "nbformat_minor": 0,
  "metadata": {
    "colab": {
      "name": "Multiplicador sin asterisco",
      "provenance": [],
      "authorship_tag": "ABX9TyPSDjgkZ9I2qy8faJ1BKF99",
      "include_colab_link": true
    },
    "kernelspec": {
      "name": "python3",
      "display_name": "Python 3"
    },
    "language_info": {
      "name": "python"
    }
  },
  "cells": [
    {
      "cell_type": "markdown",
      "metadata": {
        "id": "view-in-github",
        "colab_type": "text"
      },
      "source": [
        "<a href=\"https://colab.research.google.com/github/leopoldofalcon1/PythonChoice/blob/main/Multiplicador_sin_asterisco.ipynb\" target=\"_parent\"><img src=\"https://colab.research.google.com/assets/colab-badge.svg\" alt=\"Open In Colab\"/></a>"
      ]
    },
    {
      "cell_type": "markdown",
      "source": [
        "# Multiplicar sin usar el asterisco"
      ],
      "metadata": {
        "id": "WInc7CjLBo-k"
      }
    },
    {
      "cell_type": "code",
      "execution_count": 12,
      "metadata": {
        "colab": {
          "base_uri": "https://localhost:8080/"
        },
        "id": "_Xfdonx-Bctx",
        "outputId": "89ec04a2-857b-47a8-f48c-9e605f6f4d34"
      },
      "outputs": [
        {
          "output_type": "stream",
          "name": "stdout",
          "text": [
            "45\n"
          ]
        }
      ],
      "source": [
        "\n",
        "x =9 #@param {type: \"number\"}\n",
        "\n",
        "y=5 #@param {type: \"number\"}\n",
        "\n",
        "\n",
        "def Multiplicador(pri,sec):\n",
        "  \"\"\" Multiplico sin asterisco\n",
        "  x = Numero\n",
        "  y Numero\n",
        "  \"\"\"\n",
        "  ret =0\n",
        "  acumulador = 0\n",
        "\n",
        "  for x in range(0,sec):\n",
        "    acumulador += pri \n",
        "  print(acumulador)\n",
        "\n",
        "\n",
        "\n",
        "Multiplicador(x,y)\n",
        "\n",
        "\n",
        "\n",
        "\n"
      ]
    },
    {
      "cell_type": "code",
      "source": [
        ""
      ],
      "metadata": {
        "id": "NiXdtlK8CgMx"
      },
      "execution_count": null,
      "outputs": []
    }
  ]
}