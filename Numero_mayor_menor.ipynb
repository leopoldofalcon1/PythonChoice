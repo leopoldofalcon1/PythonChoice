{
  "nbformat": 4,
  "nbformat_minor": 0,
  "metadata": {
    "colab": {
      "name": "Numero mayor menor",
      "provenance": [],
      "authorship_tag": "ABX9TyOSTIH30m8TdyrbM2x0cVSb",
      "include_colab_link": true
    },
    "kernelspec": {
      "name": "python3",
      "display_name": "Python 3"
    },
    "language_info": {
      "name": "python"
    }
  },
  "cells": [
    {
      "cell_type": "markdown",
      "metadata": {
        "id": "view-in-github",
        "colab_type": "text"
      },
      "source": [
        "<a href=\"https://colab.research.google.com/github/leopoldofalcon1/PythonChoice/blob/main/Numero_mayor_menor.ipynb\" target=\"_parent\"><img src=\"https://colab.research.google.com/assets/colab-badge.svg\" alt=\"Open In Colab\"/></a>"
      ]
    },
    {
      "cell_type": "markdown",
      "source": [
        "# Indico cual es mayor y menor\n",
        "\n",
        "\n"
      ],
      "metadata": {
        "id": "GpM3hDV4540Z"
      }
    },
    {
      "cell_type": "code",
      "execution_count": 34,
      "metadata": {
        "colab": {
          "base_uri": "https://localhost:8080/"
        },
        "id": "ncaN3-l75yvp",
        "outputId": "abd3f656-3b2a-4613-8fa6-0a7c6202270b"
      },
      "outputs": [
        {
          "output_type": "stream",
          "name": "stdout",
          "text": [
            "1  es Menor que  5\n"
          ]
        }
      ],
      "source": [
        "\n",
        "def Maximo(x :float, y :float):\n",
        "  \"\"\" Indica que x es mayor o menor\n",
        "  x= es el primer valor\n",
        "  \"\"\"\n",
        "  if x and y:\n",
        "    if x > y:\n",
        "      print(x,\" es mayor que \",y)\n",
        "    else:\n",
        "      if y == x:\n",
        "        print(\"Son iguales \",x, \" y \",y)\n",
        "      else:\n",
        "        print(x,\" es Menor que \",y)\n",
        "        \n",
        "\n",
        "\n",
        "\n",
        "Maximo(1,5)"
      ]
    },
    {
      "cell_type": "code",
      "source": [
        ""
      ],
      "metadata": {
        "id": "dcxdNBLC_kCy"
      },
      "execution_count": null,
      "outputs": []
    }
  ]
}